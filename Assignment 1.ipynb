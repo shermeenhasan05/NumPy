{
 "cells": [
  {
   "cell_type": "markdown",
   "id": "a74d6c54",
   "metadata": {},
   "source": [
    "# Universal Functions "
   ]
  },
  {
   "cell_type": "markdown",
   "id": "f316da92",
   "metadata": {},
   "source": [
    "Arithmetic Functions "
   ]
  },
  {
   "cell_type": "code",
   "execution_count": 21,
   "id": "fa6ee43f",
   "metadata": {},
   "outputs": [],
   "source": [
    "import numpy as np"
   ]
  },
  {
   "cell_type": "code",
   "execution_count": 22,
   "id": "91d6b9c2",
   "metadata": {},
   "outputs": [
    {
     "data": {
      "text/plain": [
       "array([ 1,  2,  3,  4,  5,  6,  7,  8,  9, 10, 11, 12, 13, 14, 15, 16, 17,\n",
       "       18, 19, 20, 21, 22, 23, 24, 25, 26, 27, 28, 29, 30])"
      ]
     },
     "metadata": {},
     "output_type": "display_data"
    },
    {
     "data": {
      "text/plain": [
       "array([31, 32, 33, 34, 35, 36, 37, 38, 39, 40, 41, 42, 43, 44, 45, 46, 47,\n",
       "       48, 49, 50, 51, 52, 53, 54, 55, 56, 57, 58, 59, 60])"
      ]
     },
     "metadata": {},
     "output_type": "display_data"
    }
   ],
   "source": [
    "a=np.arange(1,31)\n",
    "b=np.arange(31,61)\n",
    "display(a,b)"
   ]
  },
  {
   "cell_type": "code",
   "execution_count": 23,
   "id": "d2324de2",
   "metadata": {},
   "outputs": [
    {
     "data": {
      "text/plain": [
       "array([32, 34, 36, 38, 40, 42, 44, 46, 48, 50, 52, 54, 56, 58, 60, 62, 64,\n",
       "       66, 68, 70, 72, 74, 76, 78, 80, 82, 84, 86, 88, 90])"
      ]
     },
     "metadata": {},
     "output_type": "display_data"
    }
   ],
   "source": [
    "#Addition\n",
    "add_arr=np.add(a,b)\n",
    "display(add_arr)"
   ]
  },
  {
   "cell_type": "code",
   "execution_count": 24,
   "id": "eb5823ee",
   "metadata": {},
   "outputs": [
    {
     "data": {
      "text/plain": [
       "array([-30, -30, -30, -30, -30, -30, -30, -30, -30, -30, -30, -30, -30,\n",
       "       -30, -30, -30, -30, -30, -30, -30, -30, -30, -30, -30, -30, -30,\n",
       "       -30, -30, -30, -30])"
      ]
     },
     "metadata": {},
     "output_type": "display_data"
    }
   ],
   "source": [
    "#Subtraction\n",
    "sub_arr=np.subtract(a,b)\n",
    "display(sub_arr)"
   ]
  },
  {
   "cell_type": "code",
   "execution_count": 25,
   "id": "5ecfd5f7",
   "metadata": {},
   "outputs": [
    {
     "data": {
      "text/plain": [
       "array([  31,   64,   99,  136,  175,  216,  259,  304,  351,  400,  451,\n",
       "        504,  559,  616,  675,  736,  799,  864,  931, 1000, 1071, 1144,\n",
       "       1219, 1296, 1375, 1456, 1539, 1624, 1711, 1800])"
      ]
     },
     "metadata": {},
     "output_type": "display_data"
    }
   ],
   "source": [
    "#Multiply\n",
    "multiply_arr=np.multiply(a,b)\n",
    "display(multiply_arr)"
   ]
  },
  {
   "cell_type": "code",
   "execution_count": 26,
   "id": "e4122bd6",
   "metadata": {},
   "outputs": [
    {
     "data": {
      "text/plain": [
       "array([0.03225806, 0.0625    , 0.09090909, 0.11764706, 0.14285714,\n",
       "       0.16666667, 0.18918919, 0.21052632, 0.23076923, 0.25      ,\n",
       "       0.26829268, 0.28571429, 0.30232558, 0.31818182, 0.33333333,\n",
       "       0.34782609, 0.36170213, 0.375     , 0.3877551 , 0.4       ,\n",
       "       0.41176471, 0.42307692, 0.43396226, 0.44444444, 0.45454545,\n",
       "       0.46428571, 0.47368421, 0.48275862, 0.49152542, 0.5       ])"
      ]
     },
     "metadata": {},
     "output_type": "display_data"
    }
   ],
   "source": [
    "#Divide\n",
    "divide_arr=np.divide(a,b)\n",
    "display(divide_arr)"
   ]
  },
  {
   "cell_type": "code",
   "execution_count": 27,
   "id": "afbbee8f",
   "metadata": {},
   "outputs": [
    {
     "data": {
      "text/plain": [
       "array([          1,           0, -1504003197,           0,  1165029885,\n",
       "                 0,    12107431,           0,  -662744967,           0,\n",
       "         865016235,           0,   142818741,           0, -1587542833,\n",
       "                 0, -1863930895,           0,  1926776915,           0,\n",
       "       -1950685843,           0,   189678711,           0,  1399551081,\n",
       "                 0,  -745006725,           0,  2107894565,           0],\n",
       "      dtype=int32)"
      ]
     },
     "metadata": {},
     "output_type": "display_data"
    }
   ],
   "source": [
    "#Exponential\n",
    "exp_arr=np.power(a,b)\n",
    "display(exp_arr)"
   ]
  },
  {
   "cell_type": "code",
   "execution_count": 29,
   "id": "ccb47cf4",
   "metadata": {},
   "outputs": [
    {
     "data": {
      "text/plain": [
       "array([ 1,  2,  3,  4,  5,  6,  7,  8,  9, 10, 11, 12, 13, 14, 15, 16, 17,\n",
       "       18, 19, 20, 21, 22, 23, 24, 25, 26, 27, 28, 29, 30], dtype=int32)"
      ]
     },
     "metadata": {},
     "output_type": "display_data"
    }
   ],
   "source": [
    "#Remainder\n",
    "remainder_arr=np.mod(a,b)\n",
    "display(remainder_arr)"
   ]
  },
  {
   "cell_type": "code",
   "execution_count": 31,
   "id": "061614e7",
   "metadata": {},
   "outputs": [
    {
     "data": {
      "text/plain": [
       "(array([0, 0, 0, 0, 0, 0, 0, 0, 0, 0, 0, 0, 0, 0, 0, 0, 0, 0, 0, 0, 0, 0,\n",
       "        0, 0, 0, 0, 0, 0, 0, 0], dtype=int32),\n",
       " array([ 1,  2,  3,  4,  5,  6,  7,  8,  9, 10, 11, 12, 13, 14, 15, 16, 17,\n",
       "        18, 19, 20, 21, 22, 23, 24, 25, 26, 27, 28, 29, 30], dtype=int32))"
      ]
     },
     "metadata": {},
     "output_type": "display_data"
    }
   ],
   "source": [
    "#Quotient and Remainder\n",
    "quo_arr=np.divmod(a,b)\n",
    "display(quo_arr)\n",
    "#First array represents Quotients\n",
    "#Second array represents Remainders"
   ]
  },
  {
   "cell_type": "code",
   "execution_count": 33,
   "id": "4706e882",
   "metadata": {},
   "outputs": [
    {
     "data": {
      "text/plain": [
       "array([ 3,  9,  2, 56,  9])"
      ]
     },
     "metadata": {},
     "output_type": "display_data"
    }
   ],
   "source": [
    "#Absolute(Removal of Signs)\n",
    "abs_arr=np.absolute([-3,9,-2,-56,9])\n",
    "display(abs_arr)"
   ]
  },
  {
   "cell_type": "markdown",
   "id": "13090df8",
   "metadata": {},
   "source": [
    "Decimal Rounding"
   ]
  },
  {
   "cell_type": "code",
   "execution_count": 36,
   "id": "7fe1310b",
   "metadata": {},
   "outputs": [
    {
     "data": {
      "text/plain": [
       "array([ 1.,  2.,  3.,  4.,  5.,  6.,  7.,  8.,  9., 10.])"
      ]
     },
     "metadata": {},
     "output_type": "display_data"
    }
   ],
   "source": [
    "#Truncation OR Shortening \n",
    "short_arr =np.trunc([1.67,2.89,3.56,4.78,5.45,6.23,7.03,8.75,9.13,10.89])\n",
    "display(short_arr)"
   ]
  },
  {
   "cell_type": "code",
   "execution_count": 39,
   "id": "65e6d50f",
   "metadata": {},
   "outputs": [
    {
     "data": {
      "text/plain": [
       "array([ 8.91,  6.98,  4.03, 54.32])"
      ]
     },
     "metadata": {},
     "output_type": "display_data"
    }
   ],
   "source": [
    "#rounding to n numbers\n",
    "round_arr=np.around([8.907356,6.98222,4.0276,54.3242],2) #around(the numbers to round off, to which nth place to round)\n",
    "display(round_arr)"
   ]
  },
  {
   "cell_type": "code",
   "execution_count": 40,
   "id": "c5a7e667",
   "metadata": {},
   "outputs": [
    {
     "data": {
      "text/plain": [
       "array([  7., -69.,   5., -46.])"
      ]
     },
     "metadata": {},
     "output_type": "display_data"
    }
   ],
   "source": [
    "#floor (round to lowest integer)\n",
    "floor_arr=np.floor([7.98,-68.09,5.223,-45.23])\n",
    "display(floor_arr)"
   ]
  },
  {
   "cell_type": "code",
   "execution_count": 41,
   "id": "5a2b1c45",
   "metadata": {},
   "outputs": [
    {
     "data": {
      "text/plain": [
       "array([  8., -68.,   6., -45.])"
      ]
     },
     "metadata": {},
     "output_type": "display_data"
    }
   ],
   "source": [
    "#ceil (round to highest integer)\n",
    "ceil_arr=np.ceil([7.98,-68.09,5.223,-45.23])\n",
    "display(ceil_arr)"
   ]
  },
  {
   "cell_type": "markdown",
   "id": "b17384b1",
   "metadata": {},
   "source": [
    "Summations"
   ]
  },
  {
   "cell_type": "code",
   "execution_count": 45,
   "id": "ccbb89e3",
   "metadata": {},
   "outputs": [
    {
     "data": {
      "text/plain": [
       "1830"
      ]
     },
     "metadata": {},
     "output_type": "display_data"
    }
   ],
   "source": [
    "a=np.arange(1,31)\n",
    "b=np.arange(31,61)\n",
    "#Total sum of all elements\n",
    "sum_arr=np.sum([a,b])\n",
    "display(sum_arr) "
   ]
  },
  {
   "cell_type": "code",
   "execution_count": 47,
   "id": "bb2b2cac",
   "metadata": {},
   "outputs": [
    {
     "data": {
      "text/plain": [
       "array([ 465, 1365])"
      ]
     },
     "metadata": {},
     "output_type": "display_data"
    }
   ],
   "source": [
    "#sum on an axis\n",
    "sum_arr_ax1=np.sum([a,b],axis=1) #horizontal sum\n",
    "display(sum_arr_ax1)"
   ]
  },
  {
   "cell_type": "code",
   "execution_count": 50,
   "id": "083a8415",
   "metadata": {},
   "outputs": [
    {
     "data": {
      "text/plain": [
       "array([32, 34, 36, 38, 40, 42, 44, 46, 48, 50, 52, 54, 56, 58, 60, 62, 64,\n",
       "       66, 68, 70, 72, 74, 76, 78, 80, 82, 84, 86, 88, 90])"
      ]
     },
     "metadata": {},
     "output_type": "display_data"
    }
   ],
   "source": [
    "#sum on an axis\n",
    "sum_arr_ax0=np.sum([a,b],axis=0) #vertical sum\n",
    "display(sum_arr_ax0)"
   ]
  },
  {
   "cell_type": "code",
   "execution_count": 54,
   "id": "cdaad5b3",
   "metadata": {},
   "outputs": [
    {
     "data": {
      "text/plain": [
       "array([ 0,  1,  3,  6, 10, 15, 21, 28, 36, 45, 55], dtype=int32)"
      ]
     },
     "metadata": {},
     "output_type": "display_data"
    }
   ],
   "source": [
    "#cummulative sum\n",
    "sum_cum=np.cumsum(np.arange(0,11))\n",
    "display(sum_cum)"
   ]
  },
  {
   "cell_type": "markdown",
   "id": "4e902588",
   "metadata": {},
   "source": [
    "Product"
   ]
  },
  {
   "cell_type": "code",
   "execution_count": 57,
   "id": "a0a2e417",
   "metadata": {},
   "outputs": [
    {
     "data": {
      "text/plain": [
       "1409286144"
      ]
     },
     "metadata": {},
     "output_type": "display_data"
    }
   ],
   "source": [
    "#product (multiplying all elements in an array)\n",
    "prod_arr=np.product(a)\n",
    "display(prod_arr)"
   ]
  },
  {
   "cell_type": "code",
   "execution_count": 67,
   "id": "0ba64a80",
   "metadata": {},
   "outputs": [
    {
     "data": {
      "text/plain": [
       "40320"
      ]
     },
     "metadata": {},
     "output_type": "display_data"
    }
   ],
   "source": [
    "arr1=[1,2,3,4]\n",
    "arr2=[5,6,7,8]\n",
    "#product of two arrays\n",
    "prod2_arr=np.product([arr1,arr2])\n",
    "display(prod2_arr)"
   ]
  },
  {
   "cell_type": "code",
   "execution_count": 73,
   "id": "f42c3597",
   "metadata": {},
   "outputs": [
    {
     "data": {
      "text/plain": [
       "'Axis=1'"
      ]
     },
     "metadata": {},
     "output_type": "display_data"
    },
    {
     "data": {
      "text/plain": [
       "array([  24, 1680])"
      ]
     },
     "metadata": {},
     "output_type": "display_data"
    },
    {
     "data": {
      "text/plain": [
       "'Axis=0'"
      ]
     },
     "metadata": {},
     "output_type": "display_data"
    },
    {
     "data": {
      "text/plain": [
       "array([ 5, 12, 21, 32])"
      ]
     },
     "metadata": {},
     "output_type": "display_data"
    }
   ],
   "source": [
    "#product over an axis\n",
    "#axis=1\n",
    "prod_arr_ax1=np.product([arr1,arr2],axis=1)\n",
    "display(\"Axis=1\", prod_arr_ax1)\n",
    "#axis=0\n",
    "prod_arr_ax0=np.product([arr1,arr2],axis=0)\n",
    "display(\"Axis=0\",prod_arr_ax0)"
   ]
  },
  {
   "cell_type": "code",
   "execution_count": 75,
   "id": "3e249508",
   "metadata": {},
   "outputs": [
    {
     "data": {
      "text/plain": [
       "array([      1,       2,       6,      24,     120,     720,    5040,\n",
       "         40320,  362880, 3628800], dtype=int32)"
      ]
     },
     "metadata": {},
     "output_type": "display_data"
    }
   ],
   "source": [
    "#cummulative product\n",
    "cum_prod=np.cumprod(np.arange(1,11))\n",
    "display(cum_prod)"
   ]
  },
  {
   "cell_type": "markdown",
   "id": "2e33044d",
   "metadata": {},
   "source": [
    "Logs"
   ]
  },
  {
   "cell_type": "code",
   "execution_count": 76,
   "id": "aabb015c",
   "metadata": {},
   "outputs": [
    {
     "name": "stdout",
     "output_type": "stream",
     "text": [
      "[0.         1.         1.5849625  2.         2.32192809 2.5849625\n",
      " 2.80735492 3.         3.169925  ]\n"
     ]
    }
   ],
   "source": [
    "#log with base 2\n",
    "arr = np.arange(1, 10)\n",
    "\n",
    "print(np.log2(arr))"
   ]
  },
  {
   "cell_type": "code",
   "execution_count": null,
   "id": "ec9f1b67",
   "metadata": {},
   "outputs": [],
   "source": []
  }
 ],
 "metadata": {
  "kernelspec": {
   "display_name": "Python 3 (ipykernel)",
   "language": "python",
   "name": "python3"
  },
  "language_info": {
   "codemirror_mode": {
    "name": "ipython",
    "version": 3
   },
   "file_extension": ".py",
   "mimetype": "text/x-python",
   "name": "python",
   "nbconvert_exporter": "python",
   "pygments_lexer": "ipython3",
   "version": "3.9.12"
  }
 },
 "nbformat": 4,
 "nbformat_minor": 5
}
